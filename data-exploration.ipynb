{
 "cells": [
  {
   "cell_type": "markdown",
   "metadata": {},
   "source": [
    "This notebook covers my initial exploration of the video game dataset I'll be using to view trends in video game data. I will not be cleansing or changing the file, simply exploring the raw file to determine what steps will be taken next to clean the file. \n",
    "\n",
    "\n",
    "Dataset: [Kaggle Video Game Dataset](https://www.kaggle.com/datasets/thedevastator/global-video-game-sales-ratings?resource=download)\n",
    "\n",
    "### Definitions ###\n",
    "\n",
    "- **Name**\tThe name of the video game. (String)\n",
    "- **Platform**\tThe platform the game was released on. (String)\n",
    "- **Year_of_Release**\tThe year the game was released. (Integer)\n",
    "- **Genre**\tThe genre of the game. (String)\n",
    "- **Publisher**\tThe publisher of the game. (String)\n",
    "- **NA_Sales**\tThe sales of the game in North America. (Float)\n",
    "- **EU_Sales**\tThe sales of the game in Europe. (Float)\n",
    "- **JP_Sales**\tThe sales of the game in Japan. (Float)\n",
    "- **Other_Sales**\tThe sales of the game in other regions. (Float)\n",
    "- **Global_Sales**\tThe total sales of the game across all regions. (Float)\n",
    "- **Critic_Score**\tThe score given to the game by critics. (Float)\n",
    "- **Critic_Count**\tThe number of critics who reviewed the game. (Integer)\n",
    "- **User_Score**\tThe score given to the game by users. (Float)\n",
    "- **User_Count**\tThe number of users who reviewed the game. (Integer)\n",
    "- **Developer**\tThe developer of the game. (String)\n",
    "- **Rating**\tThe rating of the game. (String)\n",
    "\n",
    "---"
   ]
  },
  {
   "cell_type": "code",
   "execution_count": 5,
   "metadata": {},
   "outputs": [],
   "source": [
    "import pandas as pd"
   ]
  },
  {
   "cell_type": "code",
   "execution_count": 4,
   "metadata": {},
   "outputs": [],
   "source": [
    "#creating initial dataframe from csv\n",
    "vg_df = pd.read_csv('data/raw-data.csv')"
   ]
  },
  {
   "cell_type": "markdown",
   "metadata": {},
   "source": [
    "Some questions I would like to potentially explore are:\n",
    "\n",
    "1. Which video game genre is the most popular worldwide? What about region to region?\n",
    "2. What does genre popularity look like over time for video games? By count of genre and/or by sales normalized by total\n",
    "3. What publisher has the most global sales? Is that the same region to region?"
   ]
  },
  {
   "cell_type": "code",
   "execution_count": 10,
   "metadata": {},
   "outputs": [
    {
     "data": {
      "text/plain": [
       "Index(['Name', 'Platform', 'Year_of_Release', 'Genre', 'Publisher', 'NA_Sales',\n",
       "       'EU_Sales', 'JP_Sales', 'Other_Sales', 'Global_Sales', 'Critic_Score',\n",
       "       'Critic_Count', 'User_Score', 'User_Count', 'Developer', 'Rating'],\n",
       "      dtype='object')"
      ]
     },
     "execution_count": 10,
     "metadata": {},
     "output_type": "execute_result"
    }
   ],
   "source": [
    "vg_df.columns"
   ]
  },
  {
   "cell_type": "markdown",
   "metadata": {},
   "source": [
    "### Cleaning Step 1\n",
    "\n",
    "Knowing what I would like to explore for my project, my initial step should be to remove any unneeded columns. \n",
    "\n",
    "**Columns to Keep:** Name, Platform, Year_of_Release, Genre, NA_Sales, EU_Sales, JP_Sales, Other_Sales, Global Sales\n",
    "\n",
    "**Columns to Remove:** Publisher, Critic_Score, User_Score, User_Count, Developer, Rating"
   ]
  },
  {
   "cell_type": "code",
   "execution_count": 11,
   "metadata": {},
   "outputs": [
    {
     "data": {
      "text/plain": [
       "(16719, 16)"
      ]
     },
     "execution_count": 11,
     "metadata": {},
     "output_type": "execute_result"
    }
   ],
   "source": [
    "vg_df.shape"
   ]
  },
  {
   "cell_type": "code",
   "execution_count": 12,
   "metadata": {},
   "outputs": [
    {
     "name": "stdout",
     "output_type": "stream",
     "text": [
      "<class 'pandas.core.frame.DataFrame'>\n",
      "RangeIndex: 16719 entries, 0 to 16718\n",
      "Data columns (total 16 columns):\n",
      " #   Column           Non-Null Count  Dtype  \n",
      "---  ------           --------------  -----  \n",
      " 0   Name             16717 non-null  object \n",
      " 1   Platform         16719 non-null  object \n",
      " 2   Year_of_Release  16450 non-null  float64\n",
      " 3   Genre            16717 non-null  object \n",
      " 4   Publisher        16665 non-null  object \n",
      " 5   NA_Sales         16719 non-null  float64\n",
      " 6   EU_Sales         16719 non-null  float64\n",
      " 7   JP_Sales         16719 non-null  float64\n",
      " 8   Other_Sales      16719 non-null  float64\n",
      " 9   Global_Sales     16719 non-null  float64\n",
      " 10  Critic_Score     8137 non-null   float64\n",
      " 11  Critic_Count     8137 non-null   float64\n",
      " 12  User_Score       10015 non-null  object \n",
      " 13  User_Count       7590 non-null   float64\n",
      " 14  Developer        10096 non-null  object \n",
      " 15  Rating           9950 non-null   object \n",
      "dtypes: float64(9), object(7)\n",
      "memory usage: 2.0+ MB\n"
     ]
    }
   ],
   "source": [
    "vg_df.info()"
   ]
  },
  {
   "cell_type": "code",
   "execution_count": 13,
   "metadata": {},
   "outputs": [
    {
     "data": {
      "text/plain": [
       "User_Count         9129\n",
       "Critic_Score       8582\n",
       "Critic_Count       8582\n",
       "Rating             6769\n",
       "User_Score         6704\n",
       "Developer          6623\n",
       "Year_of_Release     269\n",
       "Publisher            54\n",
       "Name                  2\n",
       "Genre                 2\n",
       "Platform              0\n",
       "NA_Sales              0\n",
       "EU_Sales              0\n",
       "JP_Sales              0\n",
       "Other_Sales           0\n",
       "Global_Sales          0\n",
       "dtype: int64"
      ]
     },
     "execution_count": 13,
     "metadata": {},
     "output_type": "execute_result"
    }
   ],
   "source": [
    "#looking for null values in dataset\n",
    "\n",
    "vg_df.isnull().sum().sort_values(ascending=False)"
   ]
  },
  {
   "cell_type": "markdown",
   "metadata": {},
   "source": [
    "I have no missing sales data, which is great for my questions I would like to ask. I will need to access the null values in the Year_of_Release column when using that data. \n",
    "\n",
    "I think to make my analysis more relevant for myself, I will isolate some questions to look at just NA_Sales data after anwsering my initial question of video game popularity by sales. "
   ]
  },
  {
   "cell_type": "code",
   "execution_count": 16,
   "metadata": {},
   "outputs": [
    {
     "data": {
      "text/plain": [
       "0    2006.0\n",
       "1    1985.0\n",
       "2    2008.0\n",
       "3    2009.0\n",
       "4    1996.0\n",
       "Name: Year_of_Release, dtype: float64"
      ]
     },
     "execution_count": 16,
     "metadata": {},
     "output_type": "execute_result"
    }
   ],
   "source": [
    "vg_df['Year_of_Release'].head()"
   ]
  },
  {
   "cell_type": "markdown",
   "metadata": {},
   "source": [
    "**Cleanup Note**: I'll want to tweak the formatting on the year to drop the decimal"
   ]
  },
  {
   "cell_type": "markdown",
   "metadata": {},
   "source": [
    "## Question 1##\n",
    "\n",
    "Which video game genre is the most popular worldwide, by sales and by count games? What about region to region?\n",
    "\n",
    "\n",
    "To know this, I will need to first group the data set by genre and global sales. The genres that have the most sales are the the ones that are most popular. I think for ease of reporting, I will take the top five or ten, but I'd like to see how many unique genres there are. I'll explore that below. "
   ]
  },
  {
   "cell_type": "code",
   "execution_count": 18,
   "metadata": {},
   "outputs": [
    {
     "data": {
      "text/plain": [
       "array(['Sports', 'Platform', 'Racing', 'Role-Playing', 'Puzzle', 'Misc',\n",
       "       'Shooter', 'Simulation', 'Action', 'Fighting', 'Adventure',\n",
       "       'Strategy', nan], dtype=object)"
      ]
     },
     "execution_count": 18,
     "metadata": {},
     "output_type": "execute_result"
    }
   ],
   "source": [
    "vg_df['Genre'].unique()"
   ]
  },
  {
   "cell_type": "code",
   "execution_count": 20,
   "metadata": {},
   "outputs": [
    {
     "data": {
      "text/plain": [
       "Action          3370\n",
       "Sports          2348\n",
       "Misc            1750\n",
       "Role-Playing    1500\n",
       "Shooter         1323\n",
       "Adventure       1303\n",
       "Racing          1249\n",
       "Platform         888\n",
       "Simulation       874\n",
       "Fighting         849\n",
       "Strategy         683\n",
       "Puzzle           580\n",
       "Name: Genre, dtype: int64"
      ]
     },
     "execution_count": 20,
     "metadata": {},
     "output_type": "execute_result"
    }
   ],
   "source": [
    "vg_df['Genre'].value_counts()"
   ]
  },
  {
   "cell_type": "markdown",
   "metadata": {},
   "source": [
    "There are not as many genres as I would expect, so we can report on all of them with our analysis. \n",
    "\n",
    "Steps Needed for this data set: \n",
    "1. Because genre has 2 null values, I'll want to remove those from my data set\n",
    "2. Group that cleaned data set and include count of genre & global sales\n",
    "\n",
    "For the follow-up question, I'll need to \n",
    "1. group the four breakout of sales by genre as well and include a count"
   ]
  },
  {
   "cell_type": "code",
   "execution_count": 23,
   "metadata": {},
   "outputs": [
    {
     "data": {
      "text/html": [
       "<div>\n",
       "<style scoped>\n",
       "    .dataframe tbody tr th:only-of-type {\n",
       "        vertical-align: middle;\n",
       "    }\n",
       "\n",
       "    .dataframe tbody tr th {\n",
       "        vertical-align: top;\n",
       "    }\n",
       "\n",
       "    .dataframe thead th {\n",
       "        text-align: right;\n",
       "    }\n",
       "</style>\n",
       "<table border=\"1\" class=\"dataframe\">\n",
       "  <thead>\n",
       "    <tr style=\"text-align: right;\">\n",
       "      <th></th>\n",
       "      <th>Name</th>\n",
       "      <th>Genre</th>\n",
       "      <th>NA_Sales</th>\n",
       "      <th>EU_Sales</th>\n",
       "      <th>JP_Sales</th>\n",
       "      <th>Other_Sales</th>\n",
       "    </tr>\n",
       "  </thead>\n",
       "  <tbody>\n",
       "    <tr>\n",
       "      <th>0</th>\n",
       "      <td>Wii Sports</td>\n",
       "      <td>Sports</td>\n",
       "      <td>41.36</td>\n",
       "      <td>28.96</td>\n",
       "      <td>3.77</td>\n",
       "      <td>8.45</td>\n",
       "    </tr>\n",
       "    <tr>\n",
       "      <th>1</th>\n",
       "      <td>Super Mario Bros.</td>\n",
       "      <td>Platform</td>\n",
       "      <td>29.08</td>\n",
       "      <td>3.58</td>\n",
       "      <td>6.81</td>\n",
       "      <td>0.77</td>\n",
       "    </tr>\n",
       "    <tr>\n",
       "      <th>2</th>\n",
       "      <td>Mario Kart Wii</td>\n",
       "      <td>Racing</td>\n",
       "      <td>15.68</td>\n",
       "      <td>12.76</td>\n",
       "      <td>3.79</td>\n",
       "      <td>3.29</td>\n",
       "    </tr>\n",
       "    <tr>\n",
       "      <th>3</th>\n",
       "      <td>Wii Sports Resort</td>\n",
       "      <td>Sports</td>\n",
       "      <td>15.61</td>\n",
       "      <td>10.93</td>\n",
       "      <td>3.28</td>\n",
       "      <td>2.95</td>\n",
       "    </tr>\n",
       "    <tr>\n",
       "      <th>4</th>\n",
       "      <td>Pokemon Red/Pokemon Blue</td>\n",
       "      <td>Role-Playing</td>\n",
       "      <td>11.27</td>\n",
       "      <td>8.89</td>\n",
       "      <td>10.22</td>\n",
       "      <td>1.00</td>\n",
       "    </tr>\n",
       "  </tbody>\n",
       "</table>\n",
       "</div>"
      ],
      "text/plain": [
       "                       Name         Genre  NA_Sales  EU_Sales  JP_Sales  \\\n",
       "0                Wii Sports        Sports     41.36     28.96      3.77   \n",
       "1         Super Mario Bros.      Platform     29.08      3.58      6.81   \n",
       "2            Mario Kart Wii        Racing     15.68     12.76      3.79   \n",
       "3         Wii Sports Resort        Sports     15.61     10.93      3.28   \n",
       "4  Pokemon Red/Pokemon Blue  Role-Playing     11.27      8.89     10.22   \n",
       "\n",
       "   Other_Sales  \n",
       "0         8.45  \n",
       "1         0.77  \n",
       "2         3.29  \n",
       "3         2.95  \n",
       "4         1.00  "
      ]
     },
     "execution_count": 23,
     "metadata": {},
     "output_type": "execute_result"
    }
   ],
   "source": [
    "#exploring how this data looks \n",
    "vg_df[['Name','Genre','NA_Sales','EU_Sales','JP_Sales', 'Other_Sales']].head()"
   ]
  },
  {
   "cell_type": "markdown",
   "metadata": {},
   "source": [
    "I am curious if these sales numbers are sales from when it was sold, and if I need to standardize the numbers in any way to make them equal for our review in 2023. "
   ]
  },
  {
   "cell_type": "code",
   "execution_count": null,
   "metadata": {},
   "outputs": [],
   "source": []
  }
 ],
 "metadata": {
  "kernelspec": {
   "display_name": "Python 3",
   "language": "python",
   "name": "python3"
  },
  "language_info": {
   "codemirror_mode": {
    "name": "ipython",
    "version": 3
   },
   "file_extension": ".py",
   "mimetype": "text/x-python",
   "name": "python",
   "nbconvert_exporter": "python",
   "pygments_lexer": "ipython3",
   "version": "3.11.1"
  },
  "vscode": {
   "interpreter": {
    "hash": "618f4668eee379e5bfec268552268b3fc94357fd76593543ed160f8235b21dfb"
   }
  }
 },
 "nbformat": 4,
 "nbformat_minor": 2
}
