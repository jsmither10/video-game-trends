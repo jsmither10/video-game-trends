{
 "cells": [
  {
   "cell_type": "markdown",
   "metadata": {},
   "source": [
    "This notebook covers my initial exploration of the video game dataset I'll be using to view trends in video game data. I will not be cleansing or changing the file, simply exploring the raw file to determine what steps will be taken next to clean the file. \n",
    "\n",
    "\n",
    "Dataset: [Kaggle Video Game Dataset](https://www.kaggle.com/datasets/thedevastator/global-video-game-sales-ratings?resource=download)\n",
    "\n",
    "### Definitions ###\n",
    "\n",
    "- **Name**\tThe name of the video game. (String)\n",
    "- **Platform**\tThe platform the game was released on. (String)\n",
    "- **Year_of_Release**\tThe year the game was released. (Integer)\n",
    "- **Genre**\tThe genre of the game. (String)\n",
    "- **Publisher**\tThe publisher of the game. (String)\n",
    "- **NA_Sales**\tThe sales of the game in North America. (Float)\n",
    "- **EU_Sales**\tThe sales of the game in Europe. (Float)\n",
    "- **JP_Sales**\tThe sales of the game in Japan. (Float)\n",
    "- **Other_Sales**\tThe sales of the game in other regions. (Float)\n",
    "- **Global_Sales**\tThe total sales of the game across all regions. (Float)\n",
    "- **Critic_Score**\tThe score given to the game by critics. (Float)\n",
    "- **Critic_Count**\tThe number of critics who reviewed the game. (Integer)\n",
    "- **User_Score**\tThe score given to the game by users. (Float)\n",
    "- **User_Count**\tThe number of users who reviewed the game. (Integer)\n",
    "- **Developer**\tThe developer of the game. (String)\n",
    "- **Rating**\tThe rating of the game. (String)\n",
    "\n",
    "---"
   ]
  },
  {
   "cell_type": "code",
   "execution_count": 51,
   "metadata": {},
   "outputs": [],
   "source": [
    "import pandas as pd"
   ]
  },
  {
   "cell_type": "code",
   "execution_count": 52,
   "metadata": {},
   "outputs": [],
   "source": [
    "#creating initial dataframe from csv\n",
    "vg_df = pd.read_csv('data/raw-data.csv')"
   ]
  },
  {
   "cell_type": "markdown",
   "metadata": {},
   "source": [
    "Some questions I would like to potentially explore are:\n",
    "\n",
    "1. Which video game genre is the most popular worldwide? What about region to region?\n",
    "2. What does genre popularity look like over time for video games? By count of genre and/or by sales normalized by total\n",
    "3. What publisher has the most global sales? Is that the same region to region?"
   ]
  },
  {
   "cell_type": "code",
   "execution_count": 53,
   "metadata": {},
   "outputs": [
    {
     "data": {
      "text/plain": [
       "Index(['Name', 'Platform', 'Year_of_Release', 'Genre', 'Publisher', 'NA_Sales',\n",
       "       'EU_Sales', 'JP_Sales', 'Other_Sales', 'Global_Sales', 'Critic_Score',\n",
       "       'Critic_Count', 'User_Score', 'User_Count', 'Developer', 'Rating'],\n",
       "      dtype='object')"
      ]
     },
     "execution_count": 53,
     "metadata": {},
     "output_type": "execute_result"
    }
   ],
   "source": [
    "vg_df.columns"
   ]
  },
  {
   "cell_type": "markdown",
   "metadata": {},
   "source": [
    "### Cleaning Step 1\n",
    "\n",
    "Knowing what I would like to explore for my project, my initial step should be to remove any unneeded columns. \n",
    "\n",
    "**Columns to Keep:** Name, Platform, Year_of_Release, Genre, NA_Sales, EU_Sales, JP_Sales, Other_Sales, Global Sales, Publisher\n",
    "\n",
    "**Columns to Remove:** Critic_Score, User_Score, User_Count, Developer, Rating"
   ]
  },
  {
   "cell_type": "code",
   "execution_count": 11,
   "metadata": {},
   "outputs": [
    {
     "data": {
      "text/plain": [
       "(16719, 16)"
      ]
     },
     "execution_count": 11,
     "metadata": {},
     "output_type": "execute_result"
    }
   ],
   "source": [
    "vg_df.shape"
   ]
  },
  {
   "cell_type": "code",
   "execution_count": 12,
   "metadata": {},
   "outputs": [
    {
     "name": "stdout",
     "output_type": "stream",
     "text": [
      "<class 'pandas.core.frame.DataFrame'>\n",
      "RangeIndex: 16719 entries, 0 to 16718\n",
      "Data columns (total 16 columns):\n",
      " #   Column           Non-Null Count  Dtype  \n",
      "---  ------           --------------  -----  \n",
      " 0   Name             16717 non-null  object \n",
      " 1   Platform         16719 non-null  object \n",
      " 2   Year_of_Release  16450 non-null  float64\n",
      " 3   Genre            16717 non-null  object \n",
      " 4   Publisher        16665 non-null  object \n",
      " 5   NA_Sales         16719 non-null  float64\n",
      " 6   EU_Sales         16719 non-null  float64\n",
      " 7   JP_Sales         16719 non-null  float64\n",
      " 8   Other_Sales      16719 non-null  float64\n",
      " 9   Global_Sales     16719 non-null  float64\n",
      " 10  Critic_Score     8137 non-null   float64\n",
      " 11  Critic_Count     8137 non-null   float64\n",
      " 12  User_Score       10015 non-null  object \n",
      " 13  User_Count       7590 non-null   float64\n",
      " 14  Developer        10096 non-null  object \n",
      " 15  Rating           9950 non-null   object \n",
      "dtypes: float64(9), object(7)\n",
      "memory usage: 2.0+ MB\n"
     ]
    }
   ],
   "source": [
    "vg_df.info()"
   ]
  },
  {
   "cell_type": "code",
   "execution_count": 13,
   "metadata": {},
   "outputs": [
    {
     "data": {
      "text/plain": [
       "User_Count         9129\n",
       "Critic_Score       8582\n",
       "Critic_Count       8582\n",
       "Rating             6769\n",
       "User_Score         6704\n",
       "Developer          6623\n",
       "Year_of_Release     269\n",
       "Publisher            54\n",
       "Name                  2\n",
       "Genre                 2\n",
       "Platform              0\n",
       "NA_Sales              0\n",
       "EU_Sales              0\n",
       "JP_Sales              0\n",
       "Other_Sales           0\n",
       "Global_Sales          0\n",
       "dtype: int64"
      ]
     },
     "execution_count": 13,
     "metadata": {},
     "output_type": "execute_result"
    }
   ],
   "source": [
    "#looking for null values in dataset\n",
    "\n",
    "vg_df.isnull().sum().sort_values(ascending=False)"
   ]
  },
  {
   "cell_type": "markdown",
   "metadata": {},
   "source": [
    "I have no missing sales data, which is great for my questions I would like to ask. I will need to assess the null values in the Year_of_Release column when using that data. \n",
    "\n",
    "I think to make my analysis more relevant for myself, I will isolate some questions to look at just NA_Sales data after anwsering my initial question of video game popularity by sales. "
   ]
  },
  {
   "cell_type": "code",
   "execution_count": 16,
   "metadata": {},
   "outputs": [
    {
     "data": {
      "text/plain": [
       "0    2006.0\n",
       "1    1985.0\n",
       "2    2008.0\n",
       "3    2009.0\n",
       "4    1996.0\n",
       "Name: Year_of_Release, dtype: float64"
      ]
     },
     "execution_count": 16,
     "metadata": {},
     "output_type": "execute_result"
    }
   ],
   "source": [
    "vg_df['Year_of_Release'].head()"
   ]
  },
  {
   "cell_type": "markdown",
   "metadata": {},
   "source": [
    "**Cleanup Note**: I'll want to tweak the formatting on the year to drop the decimal"
   ]
  },
  {
   "cell_type": "markdown",
   "metadata": {},
   "source": [
    "## Question 1\n",
    "\n",
    "Which video game genre is the most popular worldwide, by sales and by count games? What about region to region?\n",
    "\n",
    "\n",
    "To know this, I will need to first group the data set by genre and global sales. The genres that have the most sales are the the ones that are most popular. I think for ease of reporting, I will take the top five or ten, but I'd like to see how many unique genres there are. I'll explore that below. "
   ]
  },
  {
   "cell_type": "code",
   "execution_count": 18,
   "metadata": {},
   "outputs": [
    {
     "data": {
      "text/plain": [
       "array(['Sports', 'Platform', 'Racing', 'Role-Playing', 'Puzzle', 'Misc',\n",
       "       'Shooter', 'Simulation', 'Action', 'Fighting', 'Adventure',\n",
       "       'Strategy', nan], dtype=object)"
      ]
     },
     "execution_count": 18,
     "metadata": {},
     "output_type": "execute_result"
    }
   ],
   "source": [
    "vg_df['Genre'].unique()"
   ]
  },
  {
   "cell_type": "code",
   "execution_count": 20,
   "metadata": {},
   "outputs": [
    {
     "data": {
      "text/plain": [
       "Action          3370\n",
       "Sports          2348\n",
       "Misc            1750\n",
       "Role-Playing    1500\n",
       "Shooter         1323\n",
       "Adventure       1303\n",
       "Racing          1249\n",
       "Platform         888\n",
       "Simulation       874\n",
       "Fighting         849\n",
       "Strategy         683\n",
       "Puzzle           580\n",
       "Name: Genre, dtype: int64"
      ]
     },
     "execution_count": 20,
     "metadata": {},
     "output_type": "execute_result"
    }
   ],
   "source": [
    "vg_df['Genre'].value_counts()"
   ]
  },
  {
   "cell_type": "markdown",
   "metadata": {},
   "source": [
    "There are not as many genres as I would expect, so we can report on all of them with our analysis. \n",
    "\n",
    "Steps Needed for this data set: \n",
    "1. Because genre has 2 null values, I'll want to remove those from my data set\n",
    "2. Group that cleaned data set and include count of genre & global sales\n",
    "\n",
    "For the follow-up question, I'll need to \n",
    "1. group the four breakout of sales by genre as well and include a count"
   ]
  },
  {
   "cell_type": "code",
   "execution_count": 23,
   "metadata": {},
   "outputs": [
    {
     "data": {
      "text/html": [
       "<div>\n",
       "<style scoped>\n",
       "    .dataframe tbody tr th:only-of-type {\n",
       "        vertical-align: middle;\n",
       "    }\n",
       "\n",
       "    .dataframe tbody tr th {\n",
       "        vertical-align: top;\n",
       "    }\n",
       "\n",
       "    .dataframe thead th {\n",
       "        text-align: right;\n",
       "    }\n",
       "</style>\n",
       "<table border=\"1\" class=\"dataframe\">\n",
       "  <thead>\n",
       "    <tr style=\"text-align: right;\">\n",
       "      <th></th>\n",
       "      <th>Name</th>\n",
       "      <th>Genre</th>\n",
       "      <th>NA_Sales</th>\n",
       "      <th>EU_Sales</th>\n",
       "      <th>JP_Sales</th>\n",
       "      <th>Other_Sales</th>\n",
       "    </tr>\n",
       "  </thead>\n",
       "  <tbody>\n",
       "    <tr>\n",
       "      <th>0</th>\n",
       "      <td>Wii Sports</td>\n",
       "      <td>Sports</td>\n",
       "      <td>41.36</td>\n",
       "      <td>28.96</td>\n",
       "      <td>3.77</td>\n",
       "      <td>8.45</td>\n",
       "    </tr>\n",
       "    <tr>\n",
       "      <th>1</th>\n",
       "      <td>Super Mario Bros.</td>\n",
       "      <td>Platform</td>\n",
       "      <td>29.08</td>\n",
       "      <td>3.58</td>\n",
       "      <td>6.81</td>\n",
       "      <td>0.77</td>\n",
       "    </tr>\n",
       "    <tr>\n",
       "      <th>2</th>\n",
       "      <td>Mario Kart Wii</td>\n",
       "      <td>Racing</td>\n",
       "      <td>15.68</td>\n",
       "      <td>12.76</td>\n",
       "      <td>3.79</td>\n",
       "      <td>3.29</td>\n",
       "    </tr>\n",
       "    <tr>\n",
       "      <th>3</th>\n",
       "      <td>Wii Sports Resort</td>\n",
       "      <td>Sports</td>\n",
       "      <td>15.61</td>\n",
       "      <td>10.93</td>\n",
       "      <td>3.28</td>\n",
       "      <td>2.95</td>\n",
       "    </tr>\n",
       "    <tr>\n",
       "      <th>4</th>\n",
       "      <td>Pokemon Red/Pokemon Blue</td>\n",
       "      <td>Role-Playing</td>\n",
       "      <td>11.27</td>\n",
       "      <td>8.89</td>\n",
       "      <td>10.22</td>\n",
       "      <td>1.00</td>\n",
       "    </tr>\n",
       "  </tbody>\n",
       "</table>\n",
       "</div>"
      ],
      "text/plain": [
       "                       Name         Genre  NA_Sales  EU_Sales  JP_Sales  \\\n",
       "0                Wii Sports        Sports     41.36     28.96      3.77   \n",
       "1         Super Mario Bros.      Platform     29.08      3.58      6.81   \n",
       "2            Mario Kart Wii        Racing     15.68     12.76      3.79   \n",
       "3         Wii Sports Resort        Sports     15.61     10.93      3.28   \n",
       "4  Pokemon Red/Pokemon Blue  Role-Playing     11.27      8.89     10.22   \n",
       "\n",
       "   Other_Sales  \n",
       "0         8.45  \n",
       "1         0.77  \n",
       "2         3.29  \n",
       "3         2.95  \n",
       "4         1.00  "
      ]
     },
     "execution_count": 23,
     "metadata": {},
     "output_type": "execute_result"
    }
   ],
   "source": [
    "#exploring how this data looks \n",
    "vg_df[['Name','Genre','NA_Sales','EU_Sales','JP_Sales', 'Other_Sales']].head()"
   ]
  },
  {
   "cell_type": "markdown",
   "metadata": {},
   "source": [
    "## Question 2: What does genre popularity look like over time for video games? \n",
    "\n",
    "For this question, I will want to look at the category Genre, and the Year_of_Release. I'll likely need to group the years of release into decades or groupings in order to view them in a better way. I'll take a look at the data to see what might make sense. "
   ]
  },
  {
   "cell_type": "code",
   "execution_count": 54,
   "metadata": {},
   "outputs": [
    {
     "data": {
      "text/plain": [
       "1980.0"
      ]
     },
     "execution_count": 54,
     "metadata": {},
     "output_type": "execute_result"
    }
   ],
   "source": [
    "vg_df[\"Year_of_Release\"].min()"
   ]
  },
  {
   "cell_type": "code",
   "execution_count": 55,
   "metadata": {},
   "outputs": [
    {
     "data": {
      "text/plain": [
       "2020.0"
      ]
     },
     "execution_count": 55,
     "metadata": {},
     "output_type": "execute_result"
    }
   ],
   "source": [
    "vg_df[\"Year_of_Release\"].max()"
   ]
  },
  {
   "cell_type": "code",
   "execution_count": 58,
   "metadata": {},
   "outputs": [
    {
     "data": {
      "text/plain": [
       "2008.0    1427\n",
       "2009.0    1426\n",
       "2010.0    1255\n",
       "2007.0    1197\n",
       "2011.0    1136\n",
       "2006.0    1006\n",
       "2005.0     939\n",
       "2002.0     829\n",
       "2003.0     775\n",
       "2004.0     762\n",
       "2012.0     653\n",
       "2015.0     606\n",
       "2014.0     581\n",
       "2013.0     544\n",
       "2016.0     502\n",
       "2001.0     482\n",
       "1998.0     379\n",
       "2000.0     350\n",
       "1999.0     338\n",
       "1997.0     289\n",
       "1996.0     263\n",
       "1995.0     219\n",
       "1994.0     121\n",
       "1993.0      62\n",
       "1981.0      46\n",
       "1992.0      43\n",
       "1991.0      41\n",
       "1982.0      36\n",
       "1986.0      21\n",
       "1989.0      17\n",
       "1983.0      17\n",
       "1990.0      16\n",
       "1987.0      16\n",
       "1988.0      15\n",
       "1985.0      14\n",
       "1984.0      14\n",
       "1980.0       9\n",
       "2017.0       3\n",
       "2020.0       1\n",
       "Name: Year_of_Release, dtype: int64"
      ]
     },
     "execution_count": 58,
     "metadata": {},
     "output_type": "execute_result"
    }
   ],
   "source": [
    "vg_df['Year_of_Release'].value_counts()"
   ]
  },
  {
   "cell_type": "markdown",
   "metadata": {},
   "source": [
    "I think it will make sense to group them by decade. "
   ]
  },
  {
   "cell_type": "code",
   "execution_count": 62,
   "metadata": {},
   "outputs": [
    {
     "data": {
      "text/plain": [
       "2000's    9193\n",
       "2010's    5280\n",
       "1990's    1771\n",
       "1980's     205\n",
       "2020's       1\n",
       "Name: Decade, dtype: int64"
      ]
     },
     "execution_count": 62,
     "metadata": {},
     "output_type": "execute_result"
    }
   ],
   "source": [
    "#dropping NA values before trying to group them \n",
    "vg_df.dropna(subset=['Year_of_Release'], inplace=True)\n",
    "\n",
    "labels = [\"1980's\", \"1990's\", \"2000's\", \"2010's\", \"2020's\"]\n",
    "bins = [1980, 1990, 2000, 2010, 2020, 2030]\n",
    "vg_df['Decade'] = pd.cut(vg_df['Year_of_Release'], bins=bins, labels=labels, right=False)\n",
    "vg_df['Decade'].value_counts()"
   ]
  },
  {
   "cell_type": "markdown",
   "metadata": {},
   "source": [
    "Now that I have my decades, I need to look more granular at genres by decade"
   ]
  },
  {
   "cell_type": "code",
   "execution_count": 71,
   "metadata": {},
   "outputs": [
    {
     "data": {
      "text/plain": [
       "Decade  Genre       \n",
       "1980's  Action            66\n",
       "        Adventure          2\n",
       "        Fighting           4\n",
       "        Misc               8\n",
       "        Platform          33\n",
       "        Puzzle            19\n",
       "        Racing             8\n",
       "        Role-Playing       9\n",
       "        Shooter           30\n",
       "        Simulation         3\n",
       "        Sports            23\n",
       "        Strategy           0\n",
       "1990's  Action           162\n",
       "        Adventure         97\n",
       "        Fighting         193\n",
       "        Misc             116\n",
       "        Platform         125\n",
       "        Puzzle            71\n",
       "        Racing           183\n",
       "        Role-Playing     172\n",
       "        Shooter          137\n",
       "        Simulation        86\n",
       "        Sports           304\n",
       "        Strategy         123\n",
       "2000's  Action          1584\n",
       "        Adventure        631\n",
       "        Fighting         441\n",
       "        Misc            1021\n",
       "        Platform         567\n",
       "        Puzzle           365\n",
       "        Racing           798\n",
       "        Role-Playing     732\n",
       "        Shooter          719\n",
       "        Simulation       551\n",
       "        Sports          1404\n",
       "        Strategy         380\n",
       "2010's  Action          1496\n",
       "        Adventure        563\n",
       "        Fighting         199\n",
       "        Misc             576\n",
       "        Platform         153\n",
       "        Puzzle           114\n",
       "        Racing           237\n",
       "        Role-Playing     570\n",
       "        Shooter          410\n",
       "        Simulation       217\n",
       "        Sports           575\n",
       "        Strategy         170\n",
       "2020's  Action             0\n",
       "        Adventure          0\n",
       "        Fighting           0\n",
       "        Misc               0\n",
       "        Platform           0\n",
       "        Puzzle             0\n",
       "        Racing             0\n",
       "        Role-Playing       0\n",
       "        Shooter            0\n",
       "        Simulation         1\n",
       "        Sports             0\n",
       "        Strategy           0\n",
       "Name: Name, dtype: int64"
      ]
     },
     "execution_count": 71,
     "metadata": {},
     "output_type": "execute_result"
    }
   ],
   "source": [
    "vg_df.groupby(['Decade', 'Genre'])['Name'].count()"
   ]
  },
  {
   "cell_type": "markdown",
   "metadata": {},
   "source": [
    "I'll have to think of a good way to vizualize this data. This gets me far enough along I feel comfortable anwsering my second question. I'll probably want to remove the \"2020's\" category since there is only one data point. "
   ]
  },
  {
   "cell_type": "markdown",
   "metadata": {},
   "source": [
    "## What publisher has the most global sales? Is that the same region to region?\n",
    "\n",
    "For this question I'll need publisher, and the sales numbers totals and for each region. "
   ]
  },
  {
   "cell_type": "code",
   "execution_count": 70,
   "metadata": {},
   "outputs": [
    {
     "name": "stdout",
     "output_type": "stream",
     "text": [
      "Publisher\n",
      "Naxat Soft                        0.01\n",
      "Commseed                          0.01\n",
      "Inti Creates                      0.01\n",
      "Michaelsoft                       0.01\n",
      "UIG Entertainment                 0.01\n",
      "                                ...   \n",
      "Ubisoft                         470.45\n",
      "Sony Computer Entertainment     606.27\n",
      "Activision                      725.14\n",
      "Electronic Arts                1100.05\n",
      "Nintendo                       1786.72\n",
      "Name: Global_Sales, Length: 579, dtype: float64\n"
     ]
    }
   ],
   "source": [
    "pub_sales = vg_df.groupby(['Publisher'])['Global_Sales'].sum().sort_values(ascending=True)\n",
    "print(pub_sales)"
   ]
  },
  {
   "cell_type": "code",
   "execution_count": 75,
   "metadata": {},
   "outputs": [
    {
     "name": "stdout",
     "output_type": "stream",
     "text": [
      "                              NA_Sales  EU_Sales  JP_Sales  Other_Sales  \\\n",
      "Publisher                                                                 \n",
      "10TACLE Studios                   0.07      0.04      0.00         0.00   \n",
      "1C Company                        0.01      0.07      0.00         0.01   \n",
      "20th Century Fox Video Games      1.82      0.10      0.00         0.01   \n",
      "2D Boy                            0.00      0.03      0.00         0.01   \n",
      "3DO                               6.48      3.04      0.00         0.63   \n",
      "...                                ...       ...       ...          ...   \n",
      "id Software                       0.02      0.00      0.00         0.00   \n",
      "imageepoch Inc.                   0.00      0.00      0.04         0.00   \n",
      "inXile Entertainment              0.03      0.06      0.00         0.01   \n",
      "mixi, Inc                         0.00      0.00      0.87         0.00   \n",
      "responDESIGN                      0.09      0.04      0.00         0.01   \n",
      "\n",
      "                              Global_Sales  \n",
      "Publisher                                   \n",
      "10TACLE Studios                       0.11  \n",
      "1C Company                            0.10  \n",
      "20th Century Fox Video Games          1.94  \n",
      "2D Boy                                0.04  \n",
      "3DO                                  10.12  \n",
      "...                                    ...  \n",
      "id Software                           0.03  \n",
      "imageepoch Inc.                       0.04  \n",
      "inXile Entertainment                  0.10  \n",
      "mixi, Inc                             0.87  \n",
      "responDESIGN                          0.13  \n",
      "\n",
      "[579 rows x 5 columns]\n"
     ]
    }
   ],
   "source": [
    "sales_by_publisher = vg_df.groupby('Publisher')[['NA_Sales', 'EU_Sales', 'JP_Sales', 'Other_Sales', 'Global_Sales']].sum()\n",
    "print(sales_by_publisher)"
   ]
  },
  {
   "cell_type": "code",
   "execution_count": 79,
   "metadata": {},
   "outputs": [
    {
     "name": "stdout",
     "output_type": "stream",
     "text": [
      "Publisher\n",
      "Nintendo                       815.86\n",
      "Electronic Arts                588.65\n",
      "Activision                     428.92\n",
      "Sony Computer Entertainment    266.17\n",
      "Ubisoft                        252.12\n",
      "Name: NA_Sales, dtype: float64\n"
     ]
    }
   ],
   "source": [
    "na_sorted = sales_by_publisher.sort_values('NA_Sales', ascending=False)\n",
    "top_5_na = na_sorted['NA_Sales'].head(5)\n",
    "print(top_5_na)"
   ]
  },
  {
   "cell_type": "code",
   "execution_count": 82,
   "metadata": {},
   "outputs": [
    {
     "ename": "SyntaxError",
     "evalue": "unexpected character after line continuation character (1707368982.py, line 3)",
     "output_type": "error",
     "traceback": [
      "\u001b[1;36m  Cell \u001b[1;32mIn[82], line 3\u001b[1;36m\u001b[0m\n\u001b[1;33m    print(top_5_eu + \\n)\u001b[0m\n\u001b[1;37m                      ^\u001b[0m\n\u001b[1;31mSyntaxError\u001b[0m\u001b[1;31m:\u001b[0m unexpected character after line continuation character\n"
     ]
    }
   ],
   "source": [
    "eu_sorted = sales_by_publisher.sort_values('EU_Sales', ascending=False)\n",
    "top_5_eu = na_sorted['EU_Sales'].head(5)\n",
    "print(top_5_eu)\n",
    "\n",
    "jp_sorted = sales_by_publisher.sort_values('JP_Sales', ascending=False)\n",
    "top_5_jp = jp_sorted['JP_Sales'].head(5)\n",
    "print(top_5_jp)\n",
    "\n",
    "other_sorted = sales_by_publisher.sort_values('Other_Sales', ascending=False)\n",
    "top_5_other = other_sorted['Other_Sales'].head(5)\n",
    "print(top_5_other)\n",
    "\n",
    "global_sorted = sales_by_publisher.sort_values('Global_Sales', ascending=False)\n",
    "top_5_global = na_sorted['Global_Sales'].head(5)\n",
    "print(top_5_global)"
   ]
  },
  {
   "cell_type": "code",
   "execution_count": 83,
   "metadata": {},
   "outputs": [
    {
     "name": "stdout",
     "output_type": "stream",
     "text": [
      "Publisher\n",
      "Nintendo                        457.74\n",
      "Namco Bandai Games              127.62\n",
      "Konami Digital Entertainment     91.03\n",
      "Sony Computer Entertainment      74.15\n",
      "Capcom                           67.73\n",
      "Name: JP_Sales, dtype: float64\n"
     ]
    }
   ],
   "source": [
    "jp_sorted = sales_by_publisher.sort_values('JP_Sales', ascending=False)\n",
    "top_5_jp = jp_sorted['JP_Sales'].head(5)\n",
    "print(top_5_jp)"
   ]
  },
  {
   "cell_type": "code",
   "execution_count": 84,
   "metadata": {},
   "outputs": [
    {
     "name": "stdout",
     "output_type": "stream",
     "text": [
      "Publisher\n",
      "Electronic Arts                126.82\n",
      "Nintendo                        94.55\n",
      "Sony Computer Entertainment     79.62\n",
      "Activision                      75.27\n",
      "Take-Two Interactive            55.68\n",
      "Name: Other_Sales, dtype: float64\n"
     ]
    }
   ],
   "source": [
    "other_sorted = sales_by_publisher.sort_values('Other_Sales', ascending=False)\n",
    "top_5_other = other_sorted['Other_Sales'].head(5)\n",
    "print(top_5_other)"
   ]
  },
  {
   "cell_type": "code",
   "execution_count": 89,
   "metadata": {},
   "outputs": [
    {
     "name": "stdout",
     "output_type": "stream",
     "text": [
      "Publisher\n",
      "Nintendo                       1786.72\n",
      "Electronic Arts                1100.05\n",
      "Activision                      725.14\n",
      "Sony Computer Entertainment     606.27\n",
      "Ubisoft                         470.45\n",
      "Name: Global_Sales, dtype: float64\n"
     ]
    }
   ],
   "source": [
    "global_sorted = sales_by_publisher.sort_values('Global_Sales', ascending=False)\n",
    "top_5_global = global_sorted['Global_Sales'].head(5)\n",
    "print(top_5_global)"
   ]
  },
  {
   "cell_type": "markdown",
   "metadata": {},
   "source": [
    "Maybe I'll combine them all for easier data viewing"
   ]
  },
  {
   "cell_type": "code",
   "execution_count": 108,
   "metadata": {
    "scrolled": true
   },
   "outputs": [
    {
     "name": "stdout",
     "output_type": "stream",
     "text": [
      "                             Global_Sales Other_Sales JP_Sales NA_Sales\n",
      "Publisher                                                              \n",
      "Nintendo                          1786.72       94.55   457.74   815.86\n",
      "Electronic Arts                   1100.05      126.82       NA   588.65\n",
      "Activision                         725.14       75.27       NA   428.92\n",
      "Sony Computer Entertainment        606.27       79.62    74.15   266.17\n",
      "Ubisoft                            470.45          NA       NA   252.12\n",
      "Take-Two Interactive                   NA       55.68       NA       NA\n",
      "Namco Bandai Games                     NA          NA   127.62       NA\n",
      "Konami Digital Entertainment           NA          NA    91.03       NA\n",
      "Capcom                                 NA          NA    67.73       NA\n"
     ]
    }
   ],
   "source": [
    "#combining all of the new series into a new dataframe for better visualizing \n",
    "pub_comp_df = pd.concat([top_5_global, top_5_other,top_5_jp, top_5_na ], axis=1).fillna('NA')\n",
    "print(pub_comp_df)"
   ]
  },
  {
   "cell_type": "markdown",
   "metadata": {},
   "source": [
    "I think this gives me enough to clean the actual file and start vizualing everything! "
   ]
  },
  {
   "cell_type": "code",
   "execution_count": null,
   "metadata": {},
   "outputs": [],
   "source": []
  }
 ],
 "metadata": {
  "kernelspec": {
   "display_name": "Python 3 (ipykernel)",
   "language": "python",
   "name": "python3"
  },
  "language_info": {
   "codemirror_mode": {
    "name": "ipython",
    "version": 3
   },
   "file_extension": ".py",
   "mimetype": "text/x-python",
   "name": "python",
   "nbconvert_exporter": "python",
   "pygments_lexer": "ipython3",
   "version": "3.11.1"
  },
  "vscode": {
   "interpreter": {
    "hash": "618f4668eee379e5bfec268552268b3fc94357fd76593543ed160f8235b21dfb"
   }
  }
 },
 "nbformat": 4,
 "nbformat_minor": 2
}
